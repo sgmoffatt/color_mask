{
 "cells": [
  {
   "cell_type": "code",
   "execution_count": 31,
   "metadata": {},
   "outputs": [
    {
     "name": "stdout",
     "output_type": "stream",
     "text": [
      "Step 1\n",
      "Step 2\n",
      "Step 1\n",
      "Step 2\n",
      "Step 1\n",
      "Step 2\n",
      "Step 1\n",
      "Step 2\n",
      "complete\n"
     ]
    }
   ],
   "source": [
    "import numpy as np\n",
    "import cv2\n",
    "import glob\n",
    "import matplotlib.pyplot as plt\n",
    "import matplotlib.image as mpimg\n",
    "\n",
    "%matplotlib qt\n",
    "%matplotlib inline \n",
    "\n",
    "def threshold(img):\n",
    "    #Controls\n",
    "    sat_level=0\n",
    "    lum_level=0.95\n",
    "    kernel=7\n",
    "    \n",
    "    # Convert to HLS color space and separate the S channel\n",
    "    hls = cv2.cvtColor(img, cv2.COLOR_RGB2HLS)\n",
    "    h_channel = hls[:,:,0]\n",
    "    l_channel = hls[:,:,1]\n",
    "    s_channel = hls[:,:,2]\n",
    "\n",
    "    cv2.imwrite(\"../my_notebook/output/l_channel.jpg\", l_channel)\n",
    "    \n",
    "    mask1 = cv2.inRange(hls, (160, 0, 0), (179, 255,255))\n",
    "    mask2 = cv2.inRange(hls, (0, 0, 30), (179, 255,255))\n",
    "          \n",
    "    ## final mask and masked\n",
    "    mask_neg = cv2.bitwise_and(mask1, mask2)\n",
    "    cv2.imwrite(\"../my_notebook/output/mask_neg.jpg\", mask_neg)\n",
    "        #np.savetxt(\"../my_notebook/output/mask.csv\", mask_neg, delimiter=\",\")\n",
    "        #np.savetxt(\"../my_notebook/output/sat.csv\", s_channel, delimiter=\",\")\n",
    "    print(\"Step 1\")\n",
    "    \n",
    "    #Mute the background, don't eliminate.  \n",
    "    s_channel[mask_neg==False] = s_channel[mask_neg==False]*sat_level\n",
    "    l_channel[mask_neg==False] = l_channel[mask_neg==False]*lum_level\n",
    "      \n",
    "    #Idea - gaussian Blur on the light channel.  \n",
    "    #l_channel[mask_neg==False] = cv2.GaussianBlur(l_channel[mask_neg==False], (kernel, kernel), 0)\n",
    "    \n",
    "    print(\"Step 2\")\n",
    "    hls[:,:,2]=s_channel\n",
    "    hls[:,:,1]=l_channel\n",
    "    hls_rgb=cv2.cvtColor(hls, cv2.COLOR_HLS2RGB)\n",
    "    cv2.imwrite('../my_notebook/output/hls-target.jpg', hls_rgb)\n",
    "    return hls_rgb\n",
    "\n",
    "images = glob.glob('../my_notebook/condenser_images/test*.jpg')\n",
    "num=0\n",
    "# Step through the list and search for chessboard corners\n",
    "for fname in images:\n",
    "    num+=1\n",
    "    image=cv2.imread('../my_notebook/condenser_images/test%d.jpg' % num)\n",
    "    thresh=threshold(image)\n",
    "    cv2.imwrite('../my_notebook/output/test%d.jpg' % num, thresh)\n",
    "print(\"complete\")\n",
    "\n"
   ]
  },
  {
   "cell_type": "code",
   "execution_count": 1,
   "metadata": {},
   "outputs": [
    {
     "name": "stdout",
     "output_type": "stream",
     "text": [
      "hello world\n"
     ]
    }
   ],
   "source": [
    "print (\"hello world\")"
   ]
  },
  {
   "cell_type": "code",
   "execution_count": 2,
   "metadata": {},
   "outputs": [
    {
     "name": "stdout",
     "output_type": "stream",
     "text": [
      "hello world\n"
     ]
    }
   ],
   "source": [
    "print (\"hello world\")"
   ]
  },
  {
   "cell_type": "code",
   "execution_count": null,
   "metadata": {},
   "outputs": [],
   "source": []
  }
 ],
 "metadata": {
  "kernelspec": {
   "display_name": "Python 3",
   "language": "python",
   "name": "python3"
  },
  "language_info": {
   "codemirror_mode": {
    "name": "ipython",
    "version": 3
   },
   "file_extension": ".py",
   "mimetype": "text/x-python",
   "name": "python",
   "nbconvert_exporter": "python",
   "pygments_lexer": "ipython3",
   "version": "3.7.0"
  }
 },
 "nbformat": 4,
 "nbformat_minor": 2
}
